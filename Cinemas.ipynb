{
 "cells": [
  {
   "cell_type": "markdown",
   "metadata": {
    "collapsed": true
   },
   "source": [
    "# Capstone Project - The Battle of the Neighborhoods (Week 2)\n",
    "### Applied Data Science Capstone by IBM/Coursera"
   ]
  },
  {
   "cell_type": "markdown",
   "metadata": {},
   "source": [
    "## Table of contents\n",
    "* [Introduction: Business Problem](#introduction)\n",
    "* [Data](#data)\n",
    "* [Methodology](#methodology)\n",
    "* [Analysis](#analysis)\n",
    "* [Results and Discussion](#results)\n",
    "* [Conclusion](#conclusion)"
   ]
  },
  {
   "cell_type": "markdown",
   "metadata": {},
   "source": [
    "\n",
    "\n",
    "## Introduction: Business Problem <a name=\"introduction\"></a>"
   ]
  },
  {
   "cell_type": "markdown",
   "metadata": {},
   "source": [
    "This paper provides a comparative overview of cinemas in the cities of Belgorod and Stary Oskol.\n",
    "- ***Belgorod*** is the administrative center of the region with a population of 400,000 people, covering an area of 151.3 sq. km\n",
    "- the industrial city of ***Stary Oskol*** with a population of 224,000 people, total area - 200.8 sq. km\n",
    "A preliminary assessment requires a general understanding of the number, location and identification of possible previously unaccounted for indicators of entertainment infrastructure in the named cities.\n",
    "Based on the data obtained, an understanding will be obtained about the development of this type of entertainment services in these cities and about satisfaction in needs and about possible development. This study will help in the intention of large movie theater chains in determining the strategy of their presence in the region.\n"
   ]
  },
  {
   "cell_type": "markdown",
   "metadata": {},
   "source": [
    "## Data <a name=\"data\"></a>"
   ]
  },
  {
   "cell_type": "markdown",
   "metadata": {},
   "source": [
    "Based on definition of our problem, factors that will influence our decission are:\n",
    "* number of existing movie theaters in the cities (any type of cinema)\n",
    "\n",
    "Following data sources will be needed to extract/generate the required information:\n",
    "* centers of candidate areas will be generated algorithmically and approximate addresses of centers of those areas will be obtained using **Foursquare API**\n"
   ]
  },
  {
   "cell_type": "markdown",
   "metadata": {},
   "source": [
    "### Neighborhood Candidates\n",
    "\n",
    "Let's create latitude & longitude coordinates for centroids of our candidate neighborhoods. We will create a grid of cells covering our area of interest which is aprox. 10 killometers centered around ***Belgorod*** and ***Stary Oskol*** cities center.\n",
    "\n",
    "Let's first find the latitude & longitude of ***Belgorod*** and ***Stary Oskol*** city centers, using specific, well known address and **Foursquare API**"
   ]
  },
  {
   "cell_type": "code",
   "execution_count": 1,
   "metadata": {},
   "outputs": [],
   "source": [
    "# The code was removed by Watson Studio for sharing."
   ]
  },
  {
   "cell_type": "code",
   "execution_count": 1,
   "metadata": {},
   "outputs": [],
   "source": [
    "import requests # library to handle requests\n",
    "import pandas as pd # library for data analsysis\n",
    "import numpy as np # library to handle data in a vectorized manner\n",
    "import random # library for random number generation\n",
    "\n",
    "\n",
    "#!pip install geopy\n",
    "from geopy.geocoders import Nominatim # module to convert an address into latitude and longitude values\n",
    "\n",
    "# libraries for displaying images\n",
    "from IPython.display import Image \n",
    "from IPython.core.display import HTML \n",
    "    \n",
    "# tranforming json file into a pandas dataframe library\n",
    "from pandas.io.json import json_normalize\n",
    "\n",
    "\n",
    "#! pip install folium==0.5.0\n",
    "import folium # plotting library\n"
   ]
  },
  {
   "cell_type": "markdown",
   "metadata": {},
   "source": [
    "Define Foursquare Credentials and Version\n",
    "Make sure that you have created a Foursquare developer account and have your credentials handy\n",
    "To obtain access token follow these steps.\n",
    "\n",
    "Go to your \"App Settings\" page on the developer console of Foursquare.com\n",
    "Set the \"Redirect URL\" under \"Web Addresses\" to https://www.google.com\n",
    "Paste and enter the following url in your web browser (replace YOUR_CLIENT_ID with your actual client id): https://foursquare.com/oauth2/authenticate?client_id=YOUR_CLIENT_ID&response_type=code&redirect_uri=https://www.google.com\n",
    "\n",
    "This should redirect you to a google page requesting permission to make the connection.\n",
    "\n",
    "Accept and then look at the url of your web browser (take note at the CODE part of the url to use in step 5)\n",
    "It should look like https://www.google.com/?code=CODE\n",
    "\n",
    "Copy the code value from the previous step.\n",
    "Paste and enter the following into your web browser (replace placeholders with actual values): https://foursquare.com/oauth2/access_token?client_id=YOUR_CLIENT_ID&client_secret=YOUR_CLIENT_SECRET&grant_type=authorization_code&redirect_uri=https://www.google.com&code=CODE.\n",
    "\n",
    "When you paste the link , This should lead you to a page that gives you your access token."
   ]
  },
  {
   "cell_type": "code",
   "execution_count": 2,
   "metadata": {},
   "outputs": [],
   "source": [
    "CLIENT_ID = 'HRIC1M0HSDGXEIL1YV2HL1X5VVOHNWZAA424FATBDUMRIHQS' # your Foursquare ID\n",
    "CLIENT_SECRET = '3JP0IN5JVNBRP01WII34ZZ31MQAKOKBOJS5OKQXBNJKOGF3G' # your Foursquare Secret\n",
    "ACCESS_TOKEN = '' # your FourSquare Access Token\n",
    "VERSION = '20180604'\n",
    "LIMIT = 30\n"
   ]
  },
  {
   "cell_type": "markdown",
   "metadata": {},
   "source": [
    "Let's again assume that you are staying at the center of Belgorod. So let's start by converting the Belgorod center's address to its latitude and longitude coordinates.\n",
    "In order to define an instance of the geocoder, we need to define a user_agent. We will name our agent foursquare_agent, as shown below."
   ]
  },
  {
   "cell_type": "code",
   "execution_count": 6,
   "metadata": {},
   "outputs": [
    {
     "name": "stdout",
     "output_type": "stream",
     "text": [
      "50.5955595 36.5873394\n"
     ]
    }
   ],
   "source": [
    "address_B = 'Belgorod'\n",
    "\n",
    "geolocator = Nominatim(user_agent=\"foursquare_agent\")\n",
    "location = geolocator.geocode(address_B)\n",
    "latitude_B = location.latitude\n",
    "longitude_B = location.longitude\n",
    "print(latitude_B, longitude_B)"
   ]
  },
  {
   "cell_type": "code",
   "execution_count": 8,
   "metadata": {},
   "outputs": [
    {
     "name": "stdout",
     "output_type": "stream",
     "text": [
      "51.298038 37.833202\n"
     ]
    }
   ],
   "source": [
    "address_SO = 'Stary Oskol'\n",
    "\n",
    "geolocator = Nominatim(user_agent=\"foursquare_agent\")\n",
    "location = geolocator.geocode(address_SO)\n",
    "latitude_SO = location.latitude\n",
    "longitude_SO = location.longitude\n",
    "print(latitude_SO, longitude_SO)"
   ]
  },
  {
   "cell_type": "markdown",
   "metadata": {},
   "source": [
    "So, let's define a query to search for movies theater's that is within 10000 metres from the cities center ."
   ]
  },
  {
   "cell_type": "markdown",
   "metadata": {},
   "source": [
    "Let's visualize the data we have so far: city center location and candidate neighborhood centers:"
   ]
  },
  {
   "cell_type": "code",
   "execution_count": 9,
   "metadata": {},
   "outputs": [
    {
     "name": "stdout",
     "output_type": "stream",
     "text": [
      "кинотеатр .... OK!\n"
     ]
    }
   ],
   "source": [
    "search_query = 'кинотеатр'\n",
    "radius = 10000\n",
    "print(search_query + ' .... OK!')"
   ]
  },
  {
   "cell_type": "code",
   "execution_count": 12,
   "metadata": {},
   "outputs": [
    {
     "data": {
      "text/plain": [
       "'https://api.foursquare.com/v2/venues/search?client_id=HRIC1M0HSDGXEIL1YV2HL1X5VVOHNWZAA424FATBDUMRIHQS&client_secret=3JP0IN5JVNBRP01WII34ZZ31MQAKOKBOJS5OKQXBNJKOGF3G&ll=50.5955595,36.5873394&oauth_token=&v=20180604&query=кинотеатр&radius=10000&limit=30'"
      ]
     },
     "execution_count": 12,
     "metadata": {},
     "output_type": "execute_result"
    }
   ],
   "source": [
    "url_B = 'https://api.foursquare.com/v2/venues/search?client_id={}&client_secret={}&ll={},{}&oauth_token={}&v={}&query={}&radius={}&limit={}'.format(CLIENT_ID, CLIENT_SECRET, latitude_B, longitude_B,ACCESS_TOKEN, VERSION, search_query, radius, LIMIT)\n",
    "url_B"
   ]
  },
  {
   "cell_type": "code",
   "execution_count": 13,
   "metadata": {},
   "outputs": [
    {
     "data": {
      "text/plain": [
       "'https://api.foursquare.com/v2/venues/search?client_id=HRIC1M0HSDGXEIL1YV2HL1X5VVOHNWZAA424FATBDUMRIHQS&client_secret=3JP0IN5JVNBRP01WII34ZZ31MQAKOKBOJS5OKQXBNJKOGF3G&ll=51.298038,37.833202&oauth_token=&v=20180604&query=кинотеатр&radius=10000&limit=30'"
      ]
     },
     "execution_count": 13,
     "metadata": {},
     "output_type": "execute_result"
    }
   ],
   "source": [
    "url_SO = 'https://api.foursquare.com/v2/venues/search?client_id={}&client_secret={}&ll={},{}&oauth_token={}&v={}&query={}&radius={}&limit={}'.format(CLIENT_ID, CLIENT_SECRET, latitude_SO, longitude_SO,ACCESS_TOKEN, VERSION, search_query, radius, LIMIT)\n",
    "url_SO"
   ]
  },
  {
   "cell_type": "code",
   "execution_count": 14,
   "metadata": {},
   "outputs": [
    {
     "data": {
      "text/plain": [
       "{'meta': {'code': 200, 'requestId': '60eee068f180a40a3d92ace2'},\n",
       " 'response': {'venues': [{'id': '51e38132498ed57c5bd225a3',\n",
       "    'name': 'ост. Кинотеатр Победа',\n",
       "    'location': {'address': 'ул. Преображенская',\n",
       "     'lat': 50.59922680114017,\n",
       "     'lng': 36.58287512651475,\n",
       "     'labeledLatLngs': [{'label': 'display',\n",
       "       'lat': 50.59922680114017,\n",
       "       'lng': 36.58287512651475}],\n",
       "     'distance': 515,\n",
       "     'cc': 'RU',\n",
       "     'city': 'Белгород',\n",
       "     'state': 'Белгородскя обл.',\n",
       "     'country': 'Россия',\n",
       "     'formattedAddress': ['ул. Преображенская', 'Белгород', 'Россия']},\n",
       "    'categories': [{'id': '52f2ab2ebcbc57f1066b8b4f',\n",
       "      'name': 'Bus Stop',\n",
       "      'pluralName': 'Bus Stops',\n",
       "      'shortName': 'Bus Stop',\n",
       "      'icon': {'prefix': 'https://ss3.4sqi.net/img/categories_v2/travel/busstation_',\n",
       "       'suffix': '.png'},\n",
       "      'primary': True}],\n",
       "    'referralId': 'v-1626267752',\n",
       "    'hasPerk': False},\n",
       "   {'id': '4fa7e362e4b0e4baa4665267',\n",
       "    'name': '5D кинотеатр',\n",
       "    'location': {'address': 'ТРК \"Рио\", 2 этаж',\n",
       "     'crossStreet': 'просп. Богдана Хмельницкого, 164',\n",
       "     'lat': 50.641786342800174,\n",
       "     'lng': 36.57200574874878,\n",
       "     'labeledLatLngs': [{'label': 'display',\n",
       "       'lat': 50.641786342800174,\n",
       "       'lng': 36.57200574874878}],\n",
       "     'distance': 5258,\n",
       "     'cc': 'RU',\n",
       "     'city': 'Белгород',\n",
       "     'state': 'Белгородская обл.',\n",
       "     'country': 'Россия',\n",
       "     'formattedAddress': ['ТРК \"Рио\", 2 этаж (просп. Богдана Хмельницкого, 164)',\n",
       "      'Белгород',\n",
       "      'Россия']},\n",
       "    'categories': [{'id': '4bf58dd8d48988d17e941735',\n",
       "      'name': 'Indie Movie Theater',\n",
       "      'pluralName': 'Indie Movie Theaters',\n",
       "      'shortName': 'Indie Movies',\n",
       "      'icon': {'prefix': 'https://ss3.4sqi.net/img/categories_v2/arts_entertainment/movietheater_',\n",
       "       'suffix': '.png'},\n",
       "      'primary': True}],\n",
       "    'referralId': 'v-1626267752',\n",
       "    'hasPerk': False},\n",
       "   {'id': '5dfba4312f4b3400084b4b73',\n",
       "    'name': 'Кинотеатр Спутник',\n",
       "    'location': {'address': 'Магистральная, 2 в',\n",
       "     'lat': 50.57297,\n",
       "     'lng': 36.538273,\n",
       "     'labeledLatLngs': [{'label': 'display',\n",
       "       'lat': 50.57297,\n",
       "       'lng': 36.538273}],\n",
       "     'distance': 4283,\n",
       "     'postalCode': '308019',\n",
       "     'cc': 'RU',\n",
       "     'city': 'Белгород',\n",
       "     'state': 'Белгородская обл.',\n",
       "     'country': 'Россия',\n",
       "     'formattedAddress': ['Магистральная, 2 в', '308019, Белгород', 'Россия']},\n",
       "    'categories': [{'id': '4bf58dd8d48988d17f941735',\n",
       "      'name': 'Movie Theater',\n",
       "      'pluralName': 'Movie Theaters',\n",
       "      'shortName': 'Movie Theater',\n",
       "      'icon': {'prefix': 'https://ss3.4sqi.net/img/categories_v2/arts_entertainment/movietheater_',\n",
       "       'suffix': '.png'},\n",
       "      'primary': True}],\n",
       "    'referralId': 'v-1626267752',\n",
       "    'hasPerk': False},\n",
       "   {'id': '4e42c933fa76a4284c1c8671',\n",
       "    'name': 'Победа',\n",
       "    'location': {'address': 'ул. 50 лет Белгородской области, 8Б',\n",
       "     'crossStreet': 'ул. Преображенская',\n",
       "     'lat': 50.59890173997732,\n",
       "     'lng': 36.58583505491499,\n",
       "     'labeledLatLngs': [{'label': 'display',\n",
       "       'lat': 50.59890173997732,\n",
       "       'lng': 36.58583505491499}],\n",
       "     'distance': 386,\n",
       "     'cc': 'RU',\n",
       "     'city': 'Белгород',\n",
       "     'state': 'Белгородская обл.',\n",
       "     'country': 'Россия',\n",
       "     'formattedAddress': ['ул. 50 лет Белгородской области, 8Б (ул. Преображенская)',\n",
       "      'Белгород',\n",
       "      'Россия']},\n",
       "    'categories': [{'id': '4bf58dd8d48988d17f941735',\n",
       "      'name': 'Movie Theater',\n",
       "      'pluralName': 'Movie Theaters',\n",
       "      'shortName': 'Movie Theater',\n",
       "      'icon': {'prefix': 'https://ss3.4sqi.net/img/categories_v2/arts_entertainment/movietheater_',\n",
       "       'suffix': '.png'},\n",
       "      'primary': True}],\n",
       "    'referralId': 'v-1626267752',\n",
       "    'hasPerk': False},\n",
       "   {'id': '4bfd60fdbf6576b01830adb8',\n",
       "    'name': 'Сити Молл Белгородский',\n",
       "    'location': {'address': 'мкрн. Пригородный',\n",
       "     'crossStreet': 'ул. Щорса, 64',\n",
       "     'lat': 50.552289504570496,\n",
       "     'lng': 36.57118511826287,\n",
       "     'labeledLatLngs': [{'label': 'display',\n",
       "       'lat': 50.552289504570496,\n",
       "       'lng': 36.57118511826287}],\n",
       "     'distance': 4950,\n",
       "     'postalCode': '308501',\n",
       "     'cc': 'RU',\n",
       "     'city': 'п. Дубовое',\n",
       "     'state': 'Белгородская обл.',\n",
       "     'country': 'Россия',\n",
       "     'formattedAddress': ['мкрн. Пригородный (ул. Щорса, 64)',\n",
       "      '308501, п. Дубовое',\n",
       "      'Россия']},\n",
       "    'categories': [{'id': '4bf58dd8d48988d1fd941735',\n",
       "      'name': 'Shopping Mall',\n",
       "      'pluralName': 'Shopping Malls',\n",
       "      'shortName': 'Mall',\n",
       "      'icon': {'prefix': 'https://ss3.4sqi.net/img/categories_v2/shops/mall_',\n",
       "       'suffix': '.png'},\n",
       "      'primary': True}],\n",
       "    'referralId': 'v-1626267752',\n",
       "    'hasPerk': False}]}}"
      ]
     },
     "execution_count": 14,
     "metadata": {},
     "output_type": "execute_result"
    }
   ],
   "source": [
    "results_B = requests.get(url_B).json()\n",
    "results_B"
   ]
  },
  {
   "cell_type": "code",
   "execution_count": 15,
   "metadata": {},
   "outputs": [
    {
     "data": {
      "text/plain": [
       "{'meta': {'code': 200, 'requestId': '60eee0908f64026453af2c82'},\n",
       " 'response': {'venues': [{'id': '4ccd86c37c2ff04d87b69f7e',\n",
       "    'name': 'Быль',\n",
       "    'location': {'address': 'мк-н Жукова, 38',\n",
       "     'lat': 51.30884952097854,\n",
       "     'lng': 37.890751017389924,\n",
       "     'labeledLatLngs': [{'label': 'display',\n",
       "       'lat': 51.30884952097854,\n",
       "       'lng': 37.890751017389924}],\n",
       "     'distance': 4182,\n",
       "     'cc': 'RU',\n",
       "     'city': 'Старый Оскол',\n",
       "     'state': 'Белгородская обл.',\n",
       "     'country': 'Россия',\n",
       "     'formattedAddress': ['мк-н Жукова, 38', 'Старый Оскол', 'Россия']},\n",
       "    'categories': [{'id': '4bf58dd8d48988d17f941735',\n",
       "      'name': 'Movie Theater',\n",
       "      'pluralName': 'Movie Theaters',\n",
       "      'shortName': 'Movie Theater',\n",
       "      'icon': {'prefix': 'https://ss3.4sqi.net/img/categories_v2/arts_entertainment/movietheater_',\n",
       "       'suffix': '.png'},\n",
       "      'primary': True}],\n",
       "    'referralId': 'v-1626267792',\n",
       "    'hasPerk': False}]}}"
      ]
     },
     "execution_count": 15,
     "metadata": {},
     "output_type": "execute_result"
    }
   ],
   "source": [
    "results_SO = requests.get(url_SO).json()\n",
    "results_SO"
   ]
  },
  {
   "cell_type": "code",
   "execution_count": 17,
   "metadata": {},
   "outputs": [
    {
     "name": "stderr",
     "output_type": "stream",
     "text": [
      "<ipython-input-17-18e1baed1f52>:5: FutureWarning: pandas.io.json.json_normalize is deprecated, use pandas.json_normalize instead\n",
      "  dataframe_B = json_normalize(venues_B)\n"
     ]
    },
    {
     "data": {
      "text/html": [
       "<div>\n",
       "<style scoped>\n",
       "    .dataframe tbody tr th:only-of-type {\n",
       "        vertical-align: middle;\n",
       "    }\n",
       "\n",
       "    .dataframe tbody tr th {\n",
       "        vertical-align: top;\n",
       "    }\n",
       "\n",
       "    .dataframe thead th {\n",
       "        text-align: right;\n",
       "    }\n",
       "</style>\n",
       "<table border=\"1\" class=\"dataframe\">\n",
       "  <thead>\n",
       "    <tr style=\"text-align: right;\">\n",
       "      <th></th>\n",
       "      <th>id</th>\n",
       "      <th>name</th>\n",
       "      <th>categories</th>\n",
       "      <th>referralId</th>\n",
       "      <th>hasPerk</th>\n",
       "      <th>location.address</th>\n",
       "      <th>location.lat</th>\n",
       "      <th>location.lng</th>\n",
       "      <th>location.labeledLatLngs</th>\n",
       "      <th>location.distance</th>\n",
       "      <th>location.cc</th>\n",
       "      <th>location.city</th>\n",
       "      <th>location.state</th>\n",
       "      <th>location.country</th>\n",
       "      <th>location.formattedAddress</th>\n",
       "      <th>location.crossStreet</th>\n",
       "      <th>location.postalCode</th>\n",
       "    </tr>\n",
       "  </thead>\n",
       "  <tbody>\n",
       "    <tr>\n",
       "      <th>0</th>\n",
       "      <td>51e38132498ed57c5bd225a3</td>\n",
       "      <td>ост. Кинотеатр Победа</td>\n",
       "      <td>[{'id': '52f2ab2ebcbc57f1066b8b4f', 'name': 'B...</td>\n",
       "      <td>v-1626267752</td>\n",
       "      <td>False</td>\n",
       "      <td>ул. Преображенская</td>\n",
       "      <td>50.599227</td>\n",
       "      <td>36.582875</td>\n",
       "      <td>[{'label': 'display', 'lat': 50.59922680114017...</td>\n",
       "      <td>515</td>\n",
       "      <td>RU</td>\n",
       "      <td>Белгород</td>\n",
       "      <td>Белгородскя обл.</td>\n",
       "      <td>Россия</td>\n",
       "      <td>[ул. Преображенская, Белгород, Россия]</td>\n",
       "      <td>NaN</td>\n",
       "      <td>NaN</td>\n",
       "    </tr>\n",
       "    <tr>\n",
       "      <th>1</th>\n",
       "      <td>4fa7e362e4b0e4baa4665267</td>\n",
       "      <td>5D кинотеатр</td>\n",
       "      <td>[{'id': '4bf58dd8d48988d17e941735', 'name': 'I...</td>\n",
       "      <td>v-1626267752</td>\n",
       "      <td>False</td>\n",
       "      <td>ТРК \"Рио\", 2 этаж</td>\n",
       "      <td>50.641786</td>\n",
       "      <td>36.572006</td>\n",
       "      <td>[{'label': 'display', 'lat': 50.64178634280017...</td>\n",
       "      <td>5258</td>\n",
       "      <td>RU</td>\n",
       "      <td>Белгород</td>\n",
       "      <td>Белгородская обл.</td>\n",
       "      <td>Россия</td>\n",
       "      <td>[ТРК \"Рио\", 2 этаж (просп. Богдана Хмельницког...</td>\n",
       "      <td>просп. Богдана Хмельницкого, 164</td>\n",
       "      <td>NaN</td>\n",
       "    </tr>\n",
       "    <tr>\n",
       "      <th>2</th>\n",
       "      <td>5dfba4312f4b3400084b4b73</td>\n",
       "      <td>Кинотеатр Спутник</td>\n",
       "      <td>[{'id': '4bf58dd8d48988d17f941735', 'name': 'M...</td>\n",
       "      <td>v-1626267752</td>\n",
       "      <td>False</td>\n",
       "      <td>Магистральная, 2 в</td>\n",
       "      <td>50.572970</td>\n",
       "      <td>36.538273</td>\n",
       "      <td>[{'label': 'display', 'lat': 50.57297, 'lng': ...</td>\n",
       "      <td>4283</td>\n",
       "      <td>RU</td>\n",
       "      <td>Белгород</td>\n",
       "      <td>Белгородская обл.</td>\n",
       "      <td>Россия</td>\n",
       "      <td>[Магистральная, 2 в, 308019, Белгород, Россия]</td>\n",
       "      <td>NaN</td>\n",
       "      <td>308019</td>\n",
       "    </tr>\n",
       "    <tr>\n",
       "      <th>3</th>\n",
       "      <td>4e42c933fa76a4284c1c8671</td>\n",
       "      <td>Победа</td>\n",
       "      <td>[{'id': '4bf58dd8d48988d17f941735', 'name': 'M...</td>\n",
       "      <td>v-1626267752</td>\n",
       "      <td>False</td>\n",
       "      <td>ул. 50 лет Белгородской области, 8Б</td>\n",
       "      <td>50.598902</td>\n",
       "      <td>36.585835</td>\n",
       "      <td>[{'label': 'display', 'lat': 50.59890173997732...</td>\n",
       "      <td>386</td>\n",
       "      <td>RU</td>\n",
       "      <td>Белгород</td>\n",
       "      <td>Белгородская обл.</td>\n",
       "      <td>Россия</td>\n",
       "      <td>[ул. 50 лет Белгородской области, 8Б (ул. Прео...</td>\n",
       "      <td>ул. Преображенская</td>\n",
       "      <td>NaN</td>\n",
       "    </tr>\n",
       "    <tr>\n",
       "      <th>4</th>\n",
       "      <td>4bfd60fdbf6576b01830adb8</td>\n",
       "      <td>Сити Молл Белгородский</td>\n",
       "      <td>[{'id': '4bf58dd8d48988d1fd941735', 'name': 'S...</td>\n",
       "      <td>v-1626267752</td>\n",
       "      <td>False</td>\n",
       "      <td>мкрн. Пригородный</td>\n",
       "      <td>50.552290</td>\n",
       "      <td>36.571185</td>\n",
       "      <td>[{'label': 'display', 'lat': 50.55228950457049...</td>\n",
       "      <td>4950</td>\n",
       "      <td>RU</td>\n",
       "      <td>п. Дубовое</td>\n",
       "      <td>Белгородская обл.</td>\n",
       "      <td>Россия</td>\n",
       "      <td>[мкрн. Пригородный (ул. Щорса, 64), 308501, п....</td>\n",
       "      <td>ул. Щорса, 64</td>\n",
       "      <td>308501</td>\n",
       "    </tr>\n",
       "  </tbody>\n",
       "</table>\n",
       "</div>"
      ],
      "text/plain": [
       "                         id                    name  \\\n",
       "0  51e38132498ed57c5bd225a3   ост. Кинотеатр Победа   \n",
       "1  4fa7e362e4b0e4baa4665267            5D кинотеатр   \n",
       "2  5dfba4312f4b3400084b4b73       Кинотеатр Спутник   \n",
       "3  4e42c933fa76a4284c1c8671                  Победа   \n",
       "4  4bfd60fdbf6576b01830adb8  Сити Молл Белгородский   \n",
       "\n",
       "                                          categories    referralId  hasPerk  \\\n",
       "0  [{'id': '52f2ab2ebcbc57f1066b8b4f', 'name': 'B...  v-1626267752    False   \n",
       "1  [{'id': '4bf58dd8d48988d17e941735', 'name': 'I...  v-1626267752    False   \n",
       "2  [{'id': '4bf58dd8d48988d17f941735', 'name': 'M...  v-1626267752    False   \n",
       "3  [{'id': '4bf58dd8d48988d17f941735', 'name': 'M...  v-1626267752    False   \n",
       "4  [{'id': '4bf58dd8d48988d1fd941735', 'name': 'S...  v-1626267752    False   \n",
       "\n",
       "                      location.address  location.lat  location.lng  \\\n",
       "0                   ул. Преображенская     50.599227     36.582875   \n",
       "1                    ТРК \"Рио\", 2 этаж     50.641786     36.572006   \n",
       "2                   Магистральная, 2 в     50.572970     36.538273   \n",
       "3  ул. 50 лет Белгородской области, 8Б     50.598902     36.585835   \n",
       "4                    мкрн. Пригородный     50.552290     36.571185   \n",
       "\n",
       "                             location.labeledLatLngs  location.distance  \\\n",
       "0  [{'label': 'display', 'lat': 50.59922680114017...                515   \n",
       "1  [{'label': 'display', 'lat': 50.64178634280017...               5258   \n",
       "2  [{'label': 'display', 'lat': 50.57297, 'lng': ...               4283   \n",
       "3  [{'label': 'display', 'lat': 50.59890173997732...                386   \n",
       "4  [{'label': 'display', 'lat': 50.55228950457049...               4950   \n",
       "\n",
       "  location.cc location.city     location.state location.country  \\\n",
       "0          RU      Белгород   Белгородскя обл.           Россия   \n",
       "1          RU      Белгород  Белгородская обл.           Россия   \n",
       "2          RU      Белгород  Белгородская обл.           Россия   \n",
       "3          RU      Белгород  Белгородская обл.           Россия   \n",
       "4          RU    п. Дубовое  Белгородская обл.           Россия   \n",
       "\n",
       "                           location.formattedAddress  \\\n",
       "0             [ул. Преображенская, Белгород, Россия]   \n",
       "1  [ТРК \"Рио\", 2 этаж (просп. Богдана Хмельницког...   \n",
       "2     [Магистральная, 2 в, 308019, Белгород, Россия]   \n",
       "3  [ул. 50 лет Белгородской области, 8Б (ул. Прео...   \n",
       "4  [мкрн. Пригородный (ул. Щорса, 64), 308501, п....   \n",
       "\n",
       "               location.crossStreet location.postalCode  \n",
       "0                               NaN                 NaN  \n",
       "1  просп. Богдана Хмельницкого, 164                 NaN  \n",
       "2                               NaN              308019  \n",
       "3                ул. Преображенская                 NaN  \n",
       "4                     ул. Щорса, 64              308501  "
      ]
     },
     "execution_count": 17,
     "metadata": {},
     "output_type": "execute_result"
    }
   ],
   "source": [
    "# assign relevant part of JSON to venues\n",
    "venues_B = results_B['response']['venues']\n",
    "\n",
    "# tranform venues into a dataframe\n",
    "dataframe_B = json_normalize(venues_B)\n",
    "dataframe_B.head(100)"
   ]
  },
  {
   "cell_type": "code",
   "execution_count": 19,
   "metadata": {},
   "outputs": [],
   "source": [
    "dataframe_B = dataframe_B.drop(index=[0])"
   ]
  },
  {
   "cell_type": "code",
   "execution_count": 20,
   "metadata": {},
   "outputs": [
    {
     "data": {
      "text/html": [
       "<div>\n",
       "<style scoped>\n",
       "    .dataframe tbody tr th:only-of-type {\n",
       "        vertical-align: middle;\n",
       "    }\n",
       "\n",
       "    .dataframe tbody tr th {\n",
       "        vertical-align: top;\n",
       "    }\n",
       "\n",
       "    .dataframe thead th {\n",
       "        text-align: right;\n",
       "    }\n",
       "</style>\n",
       "<table border=\"1\" class=\"dataframe\">\n",
       "  <thead>\n",
       "    <tr style=\"text-align: right;\">\n",
       "      <th></th>\n",
       "      <th>id</th>\n",
       "      <th>name</th>\n",
       "      <th>categories</th>\n",
       "      <th>referralId</th>\n",
       "      <th>hasPerk</th>\n",
       "      <th>location.address</th>\n",
       "      <th>location.lat</th>\n",
       "      <th>location.lng</th>\n",
       "      <th>location.labeledLatLngs</th>\n",
       "      <th>location.distance</th>\n",
       "      <th>location.cc</th>\n",
       "      <th>location.city</th>\n",
       "      <th>location.state</th>\n",
       "      <th>location.country</th>\n",
       "      <th>location.formattedAddress</th>\n",
       "      <th>location.crossStreet</th>\n",
       "      <th>location.postalCode</th>\n",
       "    </tr>\n",
       "  </thead>\n",
       "  <tbody>\n",
       "    <tr>\n",
       "      <th>1</th>\n",
       "      <td>4fa7e362e4b0e4baa4665267</td>\n",
       "      <td>5D кинотеатр</td>\n",
       "      <td>[{'id': '4bf58dd8d48988d17e941735', 'name': 'I...</td>\n",
       "      <td>v-1626267752</td>\n",
       "      <td>False</td>\n",
       "      <td>ТРК \"Рио\", 2 этаж</td>\n",
       "      <td>50.641786</td>\n",
       "      <td>36.572006</td>\n",
       "      <td>[{'label': 'display', 'lat': 50.64178634280017...</td>\n",
       "      <td>5258</td>\n",
       "      <td>RU</td>\n",
       "      <td>Белгород</td>\n",
       "      <td>Белгородская обл.</td>\n",
       "      <td>Россия</td>\n",
       "      <td>[ТРК \"Рио\", 2 этаж (просп. Богдана Хмельницког...</td>\n",
       "      <td>просп. Богдана Хмельницкого, 164</td>\n",
       "      <td>NaN</td>\n",
       "    </tr>\n",
       "    <tr>\n",
       "      <th>2</th>\n",
       "      <td>5dfba4312f4b3400084b4b73</td>\n",
       "      <td>Кинотеатр Спутник</td>\n",
       "      <td>[{'id': '4bf58dd8d48988d17f941735', 'name': 'M...</td>\n",
       "      <td>v-1626267752</td>\n",
       "      <td>False</td>\n",
       "      <td>Магистральная, 2 в</td>\n",
       "      <td>50.572970</td>\n",
       "      <td>36.538273</td>\n",
       "      <td>[{'label': 'display', 'lat': 50.57297, 'lng': ...</td>\n",
       "      <td>4283</td>\n",
       "      <td>RU</td>\n",
       "      <td>Белгород</td>\n",
       "      <td>Белгородская обл.</td>\n",
       "      <td>Россия</td>\n",
       "      <td>[Магистральная, 2 в, 308019, Белгород, Россия]</td>\n",
       "      <td>NaN</td>\n",
       "      <td>308019</td>\n",
       "    </tr>\n",
       "    <tr>\n",
       "      <th>3</th>\n",
       "      <td>4e42c933fa76a4284c1c8671</td>\n",
       "      <td>Победа</td>\n",
       "      <td>[{'id': '4bf58dd8d48988d17f941735', 'name': 'M...</td>\n",
       "      <td>v-1626267752</td>\n",
       "      <td>False</td>\n",
       "      <td>ул. 50 лет Белгородской области, 8Б</td>\n",
       "      <td>50.598902</td>\n",
       "      <td>36.585835</td>\n",
       "      <td>[{'label': 'display', 'lat': 50.59890173997732...</td>\n",
       "      <td>386</td>\n",
       "      <td>RU</td>\n",
       "      <td>Белгород</td>\n",
       "      <td>Белгородская обл.</td>\n",
       "      <td>Россия</td>\n",
       "      <td>[ул. 50 лет Белгородской области, 8Б (ул. Прео...</td>\n",
       "      <td>ул. Преображенская</td>\n",
       "      <td>NaN</td>\n",
       "    </tr>\n",
       "    <tr>\n",
       "      <th>4</th>\n",
       "      <td>4bfd60fdbf6576b01830adb8</td>\n",
       "      <td>Сити Молл Белгородский</td>\n",
       "      <td>[{'id': '4bf58dd8d48988d1fd941735', 'name': 'S...</td>\n",
       "      <td>v-1626267752</td>\n",
       "      <td>False</td>\n",
       "      <td>мкрн. Пригородный</td>\n",
       "      <td>50.552290</td>\n",
       "      <td>36.571185</td>\n",
       "      <td>[{'label': 'display', 'lat': 50.55228950457049...</td>\n",
       "      <td>4950</td>\n",
       "      <td>RU</td>\n",
       "      <td>п. Дубовое</td>\n",
       "      <td>Белгородская обл.</td>\n",
       "      <td>Россия</td>\n",
       "      <td>[мкрн. Пригородный (ул. Щорса, 64), 308501, п....</td>\n",
       "      <td>ул. Щорса, 64</td>\n",
       "      <td>308501</td>\n",
       "    </tr>\n",
       "  </tbody>\n",
       "</table>\n",
       "</div>"
      ],
      "text/plain": [
       "                         id                    name  \\\n",
       "1  4fa7e362e4b0e4baa4665267            5D кинотеатр   \n",
       "2  5dfba4312f4b3400084b4b73       Кинотеатр Спутник   \n",
       "3  4e42c933fa76a4284c1c8671                  Победа   \n",
       "4  4bfd60fdbf6576b01830adb8  Сити Молл Белгородский   \n",
       "\n",
       "                                          categories    referralId  hasPerk  \\\n",
       "1  [{'id': '4bf58dd8d48988d17e941735', 'name': 'I...  v-1626267752    False   \n",
       "2  [{'id': '4bf58dd8d48988d17f941735', 'name': 'M...  v-1626267752    False   \n",
       "3  [{'id': '4bf58dd8d48988d17f941735', 'name': 'M...  v-1626267752    False   \n",
       "4  [{'id': '4bf58dd8d48988d1fd941735', 'name': 'S...  v-1626267752    False   \n",
       "\n",
       "                      location.address  location.lat  location.lng  \\\n",
       "1                    ТРК \"Рио\", 2 этаж     50.641786     36.572006   \n",
       "2                   Магистральная, 2 в     50.572970     36.538273   \n",
       "3  ул. 50 лет Белгородской области, 8Б     50.598902     36.585835   \n",
       "4                    мкрн. Пригородный     50.552290     36.571185   \n",
       "\n",
       "                             location.labeledLatLngs  location.distance  \\\n",
       "1  [{'label': 'display', 'lat': 50.64178634280017...               5258   \n",
       "2  [{'label': 'display', 'lat': 50.57297, 'lng': ...               4283   \n",
       "3  [{'label': 'display', 'lat': 50.59890173997732...                386   \n",
       "4  [{'label': 'display', 'lat': 50.55228950457049...               4950   \n",
       "\n",
       "  location.cc location.city     location.state location.country  \\\n",
       "1          RU      Белгород  Белгородская обл.           Россия   \n",
       "2          RU      Белгород  Белгородская обл.           Россия   \n",
       "3          RU      Белгород  Белгородская обл.           Россия   \n",
       "4          RU    п. Дубовое  Белгородская обл.           Россия   \n",
       "\n",
       "                           location.formattedAddress  \\\n",
       "1  [ТРК \"Рио\", 2 этаж (просп. Богдана Хмельницког...   \n",
       "2     [Магистральная, 2 в, 308019, Белгород, Россия]   \n",
       "3  [ул. 50 лет Белгородской области, 8Б (ул. Прео...   \n",
       "4  [мкрн. Пригородный (ул. Щорса, 64), 308501, п....   \n",
       "\n",
       "               location.crossStreet location.postalCode  \n",
       "1  просп. Богдана Хмельницкого, 164                 NaN  \n",
       "2                               NaN              308019  \n",
       "3                ул. Преображенская                 NaN  \n",
       "4                     ул. Щорса, 64              308501  "
      ]
     },
     "execution_count": 20,
     "metadata": {},
     "output_type": "execute_result"
    }
   ],
   "source": [
    "dataframe_B.head(100)"
   ]
  },
  {
   "cell_type": "code",
   "execution_count": 18,
   "metadata": {},
   "outputs": [
    {
     "name": "stderr",
     "output_type": "stream",
     "text": [
      "<ipython-input-18-ee51db6e966c>:5: FutureWarning: pandas.io.json.json_normalize is deprecated, use pandas.json_normalize instead\n",
      "  dataframe_SO = json_normalize(venues_SO)\n"
     ]
    },
    {
     "data": {
      "text/html": [
       "<div>\n",
       "<style scoped>\n",
       "    .dataframe tbody tr th:only-of-type {\n",
       "        vertical-align: middle;\n",
       "    }\n",
       "\n",
       "    .dataframe tbody tr th {\n",
       "        vertical-align: top;\n",
       "    }\n",
       "\n",
       "    .dataframe thead th {\n",
       "        text-align: right;\n",
       "    }\n",
       "</style>\n",
       "<table border=\"1\" class=\"dataframe\">\n",
       "  <thead>\n",
       "    <tr style=\"text-align: right;\">\n",
       "      <th></th>\n",
       "      <th>id</th>\n",
       "      <th>name</th>\n",
       "      <th>categories</th>\n",
       "      <th>referralId</th>\n",
       "      <th>hasPerk</th>\n",
       "      <th>location.address</th>\n",
       "      <th>location.lat</th>\n",
       "      <th>location.lng</th>\n",
       "      <th>location.labeledLatLngs</th>\n",
       "      <th>location.distance</th>\n",
       "      <th>location.cc</th>\n",
       "      <th>location.city</th>\n",
       "      <th>location.state</th>\n",
       "      <th>location.country</th>\n",
       "      <th>location.formattedAddress</th>\n",
       "    </tr>\n",
       "  </thead>\n",
       "  <tbody>\n",
       "    <tr>\n",
       "      <th>0</th>\n",
       "      <td>4ccd86c37c2ff04d87b69f7e</td>\n",
       "      <td>Быль</td>\n",
       "      <td>[{'id': '4bf58dd8d48988d17f941735', 'name': 'M...</td>\n",
       "      <td>v-1626267792</td>\n",
       "      <td>False</td>\n",
       "      <td>мк-н Жукова, 38</td>\n",
       "      <td>51.30885</td>\n",
       "      <td>37.890751</td>\n",
       "      <td>[{'label': 'display', 'lat': 51.30884952097854...</td>\n",
       "      <td>4182</td>\n",
       "      <td>RU</td>\n",
       "      <td>Старый Оскол</td>\n",
       "      <td>Белгородская обл.</td>\n",
       "      <td>Россия</td>\n",
       "      <td>[мк-н Жукова, 38, Старый Оскол, Россия]</td>\n",
       "    </tr>\n",
       "  </tbody>\n",
       "</table>\n",
       "</div>"
      ],
      "text/plain": [
       "                         id  name  \\\n",
       "0  4ccd86c37c2ff04d87b69f7e  Быль   \n",
       "\n",
       "                                          categories    referralId  hasPerk  \\\n",
       "0  [{'id': '4bf58dd8d48988d17f941735', 'name': 'M...  v-1626267792    False   \n",
       "\n",
       "  location.address  location.lat  location.lng  \\\n",
       "0  мк-н Жукова, 38      51.30885     37.890751   \n",
       "\n",
       "                             location.labeledLatLngs  location.distance  \\\n",
       "0  [{'label': 'display', 'lat': 51.30884952097854...               4182   \n",
       "\n",
       "  location.cc location.city     location.state location.country  \\\n",
       "0          RU  Старый Оскол  Белгородская обл.           Россия   \n",
       "\n",
       "                 location.formattedAddress  \n",
       "0  [мк-н Жукова, 38, Старый Оскол, Россия]  "
      ]
     },
     "execution_count": 18,
     "metadata": {},
     "output_type": "execute_result"
    }
   ],
   "source": [
    "# assign relevant part of JSON to venues\n",
    "venues_SO = results_SO['response']['venues']\n",
    "\n",
    "# tranform venues into a dataframe\n",
    "dataframe_SO = json_normalize(venues_SO)\n",
    "dataframe_SO.head(100)"
   ]
  },
  {
   "cell_type": "code",
   "execution_count": 25,
   "metadata": {},
   "outputs": [
    {
     "data": {
      "text/html": [
       "<div>\n",
       "<style scoped>\n",
       "    .dataframe tbody tr th:only-of-type {\n",
       "        vertical-align: middle;\n",
       "    }\n",
       "\n",
       "    .dataframe tbody tr th {\n",
       "        vertical-align: top;\n",
       "    }\n",
       "\n",
       "    .dataframe thead th {\n",
       "        text-align: right;\n",
       "    }\n",
       "</style>\n",
       "<table border=\"1\" class=\"dataframe\">\n",
       "  <thead>\n",
       "    <tr style=\"text-align: right;\">\n",
       "      <th></th>\n",
       "      <th>name</th>\n",
       "      <th>categories</th>\n",
       "      <th>address</th>\n",
       "      <th>lat</th>\n",
       "      <th>lng</th>\n",
       "      <th>labeledLatLngs</th>\n",
       "      <th>distance</th>\n",
       "      <th>cc</th>\n",
       "      <th>city</th>\n",
       "      <th>state</th>\n",
       "      <th>country</th>\n",
       "      <th>formattedAddress</th>\n",
       "      <th>crossStreet</th>\n",
       "      <th>postalCode</th>\n",
       "      <th>id</th>\n",
       "    </tr>\n",
       "  </thead>\n",
       "  <tbody>\n",
       "    <tr>\n",
       "      <th>1</th>\n",
       "      <td>5D кинотеатр</td>\n",
       "      <td>Indie Movie Theater</td>\n",
       "      <td>ТРК \"Рио\", 2 этаж</td>\n",
       "      <td>50.641786</td>\n",
       "      <td>36.572006</td>\n",
       "      <td>[{'label': 'display', 'lat': 50.64178634280017...</td>\n",
       "      <td>5258</td>\n",
       "      <td>RU</td>\n",
       "      <td>Белгород</td>\n",
       "      <td>Белгородская обл.</td>\n",
       "      <td>Россия</td>\n",
       "      <td>[ТРК \"Рио\", 2 этаж (просп. Богдана Хмельницког...</td>\n",
       "      <td>просп. Богдана Хмельницкого, 164</td>\n",
       "      <td>NaN</td>\n",
       "      <td>4fa7e362e4b0e4baa4665267</td>\n",
       "    </tr>\n",
       "    <tr>\n",
       "      <th>2</th>\n",
       "      <td>Кинотеатр Спутник</td>\n",
       "      <td>Movie Theater</td>\n",
       "      <td>Магистральная, 2 в</td>\n",
       "      <td>50.572970</td>\n",
       "      <td>36.538273</td>\n",
       "      <td>[{'label': 'display', 'lat': 50.57297, 'lng': ...</td>\n",
       "      <td>4283</td>\n",
       "      <td>RU</td>\n",
       "      <td>Белгород</td>\n",
       "      <td>Белгородская обл.</td>\n",
       "      <td>Россия</td>\n",
       "      <td>[Магистральная, 2 в, 308019, Белгород, Россия]</td>\n",
       "      <td>NaN</td>\n",
       "      <td>308019</td>\n",
       "      <td>5dfba4312f4b3400084b4b73</td>\n",
       "    </tr>\n",
       "    <tr>\n",
       "      <th>3</th>\n",
       "      <td>Победа</td>\n",
       "      <td>Movie Theater</td>\n",
       "      <td>ул. 50 лет Белгородской области, 8Б</td>\n",
       "      <td>50.598902</td>\n",
       "      <td>36.585835</td>\n",
       "      <td>[{'label': 'display', 'lat': 50.59890173997732...</td>\n",
       "      <td>386</td>\n",
       "      <td>RU</td>\n",
       "      <td>Белгород</td>\n",
       "      <td>Белгородская обл.</td>\n",
       "      <td>Россия</td>\n",
       "      <td>[ул. 50 лет Белгородской области, 8Б (ул. Прео...</td>\n",
       "      <td>ул. Преображенская</td>\n",
       "      <td>NaN</td>\n",
       "      <td>4e42c933fa76a4284c1c8671</td>\n",
       "    </tr>\n",
       "    <tr>\n",
       "      <th>4</th>\n",
       "      <td>Сити Молл Белгородский</td>\n",
       "      <td>Shopping Mall</td>\n",
       "      <td>мкрн. Пригородный</td>\n",
       "      <td>50.552290</td>\n",
       "      <td>36.571185</td>\n",
       "      <td>[{'label': 'display', 'lat': 50.55228950457049...</td>\n",
       "      <td>4950</td>\n",
       "      <td>RU</td>\n",
       "      <td>п. Дубовое</td>\n",
       "      <td>Белгородская обл.</td>\n",
       "      <td>Россия</td>\n",
       "      <td>[мкрн. Пригородный (ул. Щорса, 64), 308501, п....</td>\n",
       "      <td>ул. Щорса, 64</td>\n",
       "      <td>308501</td>\n",
       "      <td>4bfd60fdbf6576b01830adb8</td>\n",
       "    </tr>\n",
       "  </tbody>\n",
       "</table>\n",
       "</div>"
      ],
      "text/plain": [
       "                     name           categories  \\\n",
       "1            5D кинотеатр  Indie Movie Theater   \n",
       "2       Кинотеатр Спутник        Movie Theater   \n",
       "3                  Победа        Movie Theater   \n",
       "4  Сити Молл Белгородский        Shopping Mall   \n",
       "\n",
       "                               address        lat        lng  \\\n",
       "1                    ТРК \"Рио\", 2 этаж  50.641786  36.572006   \n",
       "2                   Магистральная, 2 в  50.572970  36.538273   \n",
       "3  ул. 50 лет Белгородской области, 8Б  50.598902  36.585835   \n",
       "4                    мкрн. Пригородный  50.552290  36.571185   \n",
       "\n",
       "                                      labeledLatLngs  distance  cc  \\\n",
       "1  [{'label': 'display', 'lat': 50.64178634280017...      5258  RU   \n",
       "2  [{'label': 'display', 'lat': 50.57297, 'lng': ...      4283  RU   \n",
       "3  [{'label': 'display', 'lat': 50.59890173997732...       386  RU   \n",
       "4  [{'label': 'display', 'lat': 50.55228950457049...      4950  RU   \n",
       "\n",
       "         city              state country  \\\n",
       "1    Белгород  Белгородская обл.  Россия   \n",
       "2    Белгород  Белгородская обл.  Россия   \n",
       "3    Белгород  Белгородская обл.  Россия   \n",
       "4  п. Дубовое  Белгородская обл.  Россия   \n",
       "\n",
       "                                    formattedAddress  \\\n",
       "1  [ТРК \"Рио\", 2 этаж (просп. Богдана Хмельницког...   \n",
       "2     [Магистральная, 2 в, 308019, Белгород, Россия]   \n",
       "3  [ул. 50 лет Белгородской области, 8Б (ул. Прео...   \n",
       "4  [мкрн. Пригородный (ул. Щорса, 64), 308501, п....   \n",
       "\n",
       "                        crossStreet postalCode                        id  \n",
       "1  просп. Богдана Хмельницкого, 164        NaN  4fa7e362e4b0e4baa4665267  \n",
       "2                               NaN     308019  5dfba4312f4b3400084b4b73  \n",
       "3                ул. Преображенская        NaN  4e42c933fa76a4284c1c8671  \n",
       "4                     ул. Щорса, 64     308501  4bfd60fdbf6576b01830adb8  "
      ]
     },
     "execution_count": 25,
     "metadata": {},
     "output_type": "execute_result"
    }
   ],
   "source": [
    "# keep only columns that include venue name, and anything that is associated with location\n",
    "filtered_columns_B = ['name', 'categories'] + [col for col in dataframe_B.columns if col.startswith('location.')] + ['id']\n",
    "dataframe_filtered_B = dataframe_B.loc[:, filtered_columns_B]\n",
    "\n",
    "filtered_columns_SO = ['name', 'categories'] + [col for col in dataframe_SO.columns if col.startswith('location.')] + ['id']\n",
    "dataframe_filtered_SO = dataframe_SO.loc[:, filtered_columns_SO]\n",
    "# function that extracts the category of the venue\n",
    "def get_category_type(row):\n",
    "    try:\n",
    "        categories_list = row['categories']\n",
    "    except:\n",
    "        categories_list = row['venue.categories']\n",
    "        \n",
    "    if len(categories_list) == 0:\n",
    "        return None\n",
    "    else:\n",
    "        return categories_list[0]['name']\n",
    "\n",
    "# filter the category for each row\n",
    "dataframe_filtered_B['categories'] = dataframe_filtered_B.apply(get_category_type, axis=1)\n",
    "dataframe_filtered_SO['categories'] = dataframe_filtered_SO.apply(get_category_type, axis=1)\n",
    "# clean column names by keeping only last term\n",
    "dataframe_filtered_B.columns = [column.split('.')[-1] for column in dataframe_filtered_B.columns]\n",
    "dataframe_filtered_SO.columns = [column.split('.')[-1] for column in dataframe_filtered_SO.columns]\n",
    "\n",
    "dataframe_filtered_B\n"
   ]
  },
  {
   "cell_type": "code",
   "execution_count": 26,
   "metadata": {},
   "outputs": [
    {
     "data": {
      "text/html": [
       "<div>\n",
       "<style scoped>\n",
       "    .dataframe tbody tr th:only-of-type {\n",
       "        vertical-align: middle;\n",
       "    }\n",
       "\n",
       "    .dataframe tbody tr th {\n",
       "        vertical-align: top;\n",
       "    }\n",
       "\n",
       "    .dataframe thead th {\n",
       "        text-align: right;\n",
       "    }\n",
       "</style>\n",
       "<table border=\"1\" class=\"dataframe\">\n",
       "  <thead>\n",
       "    <tr style=\"text-align: right;\">\n",
       "      <th></th>\n",
       "      <th>name</th>\n",
       "      <th>categories</th>\n",
       "      <th>address</th>\n",
       "      <th>lat</th>\n",
       "      <th>lng</th>\n",
       "      <th>labeledLatLngs</th>\n",
       "      <th>distance</th>\n",
       "      <th>cc</th>\n",
       "      <th>city</th>\n",
       "      <th>state</th>\n",
       "      <th>country</th>\n",
       "      <th>formattedAddress</th>\n",
       "      <th>id</th>\n",
       "    </tr>\n",
       "  </thead>\n",
       "  <tbody>\n",
       "    <tr>\n",
       "      <th>0</th>\n",
       "      <td>Быль</td>\n",
       "      <td>Movie Theater</td>\n",
       "      <td>мк-н Жукова, 38</td>\n",
       "      <td>51.30885</td>\n",
       "      <td>37.890751</td>\n",
       "      <td>[{'label': 'display', 'lat': 51.30884952097854...</td>\n",
       "      <td>4182</td>\n",
       "      <td>RU</td>\n",
       "      <td>Старый Оскол</td>\n",
       "      <td>Белгородская обл.</td>\n",
       "      <td>Россия</td>\n",
       "      <td>[мк-н Жукова, 38, Старый Оскол, Россия]</td>\n",
       "      <td>4ccd86c37c2ff04d87b69f7e</td>\n",
       "    </tr>\n",
       "  </tbody>\n",
       "</table>\n",
       "</div>"
      ],
      "text/plain": [
       "   name     categories          address       lat        lng  \\\n",
       "0  Быль  Movie Theater  мк-н Жукова, 38  51.30885  37.890751   \n",
       "\n",
       "                                      labeledLatLngs  distance  cc  \\\n",
       "0  [{'label': 'display', 'lat': 51.30884952097854...      4182  RU   \n",
       "\n",
       "           city              state country  \\\n",
       "0  Старый Оскол  Белгородская обл.  Россия   \n",
       "\n",
       "                          formattedAddress                        id  \n",
       "0  [мк-н Жукова, 38, Старый Оскол, Россия]  4ccd86c37c2ff04d87b69f7e  "
      ]
     },
     "execution_count": 26,
     "metadata": {},
     "output_type": "execute_result"
    }
   ],
   "source": [
    "dataframe_filtered_SO"
   ]
  },
  {
   "cell_type": "code",
   "execution_count": 27,
   "metadata": {},
   "outputs": [
    {
     "data": {
      "text/plain": [
       "1              5D кинотеатр\n",
       "2         Кинотеатр Спутник\n",
       "3                    Победа\n",
       "4    Сити Молл Белгородский\n",
       "Name: name, dtype: object"
      ]
     },
     "execution_count": 27,
     "metadata": {},
     "output_type": "execute_result"
    }
   ],
   "source": [
    "dataframe_filtered_B.name"
   ]
  },
  {
   "cell_type": "code",
   "execution_count": 28,
   "metadata": {},
   "outputs": [
    {
     "data": {
      "text/plain": [
       "0    Быль\n",
       "Name: name, dtype: object"
      ]
     },
     "execution_count": 28,
     "metadata": {},
     "output_type": "execute_result"
    }
   ],
   "source": [
    "dataframe_filtered_SO.name"
   ]
  },
  {
   "cell_type": "code",
   "execution_count": 33,
   "metadata": {},
   "outputs": [
    {
     "data": {
      "text/html": [
       "<div style=\"width:100%;\"><div style=\"position:relative;width:100%;height:0;padding-bottom:60%;\"><span style=\"color:#565656\">Make this Notebook Trusted to load map: File -> Trust Notebook</span><iframe src=\"about:blank\" style=\"position:absolute;width:100%;height:100%;left:0;top:0;border:none !important;\" data-html=%3C%21DOCTYPE%20html%3E%0A%3Chead%3E%20%20%20%20%0A%20%20%20%20%3Cmeta%20http-equiv%3D%22content-type%22%20content%3D%22text/html%3B%20charset%3DUTF-8%22%20/%3E%0A%20%20%20%20%0A%20%20%20%20%20%20%20%20%3Cscript%3E%0A%20%20%20%20%20%20%20%20%20%20%20%20L_NO_TOUCH%20%3D%20false%3B%0A%20%20%20%20%20%20%20%20%20%20%20%20L_DISABLE_3D%20%3D%20false%3B%0A%20%20%20%20%20%20%20%20%3C/script%3E%0A%20%20%20%20%0A%20%20%20%20%3Cstyle%3Ehtml%2C%20body%20%7Bwidth%3A%20100%25%3Bheight%3A%20100%25%3Bmargin%3A%200%3Bpadding%3A%200%3B%7D%3C/style%3E%0A%20%20%20%20%3Cstyle%3E%23map%20%7Bposition%3Aabsolute%3Btop%3A0%3Bbottom%3A0%3Bright%3A0%3Bleft%3A0%3B%7D%3C/style%3E%0A%20%20%20%20%3Cscript%20src%3D%22https%3A//cdn.jsdelivr.net/npm/leaflet%401.6.0/dist/leaflet.js%22%3E%3C/script%3E%0A%20%20%20%20%3Cscript%20src%3D%22https%3A//code.jquery.com/jquery-1.12.4.min.js%22%3E%3C/script%3E%0A%20%20%20%20%3Cscript%20src%3D%22https%3A//maxcdn.bootstrapcdn.com/bootstrap/3.2.0/js/bootstrap.min.js%22%3E%3C/script%3E%0A%20%20%20%20%3Cscript%20src%3D%22https%3A//cdnjs.cloudflare.com/ajax/libs/Leaflet.awesome-markers/2.0.2/leaflet.awesome-markers.js%22%3E%3C/script%3E%0A%20%20%20%20%3Clink%20rel%3D%22stylesheet%22%20href%3D%22https%3A//cdn.jsdelivr.net/npm/leaflet%401.6.0/dist/leaflet.css%22/%3E%0A%20%20%20%20%3Clink%20rel%3D%22stylesheet%22%20href%3D%22https%3A//maxcdn.bootstrapcdn.com/bootstrap/3.2.0/css/bootstrap.min.css%22/%3E%0A%20%20%20%20%3Clink%20rel%3D%22stylesheet%22%20href%3D%22https%3A//maxcdn.bootstrapcdn.com/bootstrap/3.2.0/css/bootstrap-theme.min.css%22/%3E%0A%20%20%20%20%3Clink%20rel%3D%22stylesheet%22%20href%3D%22https%3A//maxcdn.bootstrapcdn.com/font-awesome/4.6.3/css/font-awesome.min.css%22/%3E%0A%20%20%20%20%3Clink%20rel%3D%22stylesheet%22%20href%3D%22https%3A//cdnjs.cloudflare.com/ajax/libs/Leaflet.awesome-markers/2.0.2/leaflet.awesome-markers.css%22/%3E%0A%20%20%20%20%3Clink%20rel%3D%22stylesheet%22%20href%3D%22https%3A//cdn.jsdelivr.net/gh/python-visualization/folium/folium/templates/leaflet.awesome.rotate.min.css%22/%3E%0A%20%20%20%20%0A%20%20%20%20%20%20%20%20%20%20%20%20%3Cmeta%20name%3D%22viewport%22%20content%3D%22width%3Ddevice-width%2C%0A%20%20%20%20%20%20%20%20%20%20%20%20%20%20%20%20initial-scale%3D1.0%2C%20maximum-scale%3D1.0%2C%20user-scalable%3Dno%22%20/%3E%0A%20%20%20%20%20%20%20%20%20%20%20%20%3Cstyle%3E%0A%20%20%20%20%20%20%20%20%20%20%20%20%20%20%20%20%23map_ee4a4da7d1244762a4850f53d0e960ac%20%7B%0A%20%20%20%20%20%20%20%20%20%20%20%20%20%20%20%20%20%20%20%20position%3A%20relative%3B%0A%20%20%20%20%20%20%20%20%20%20%20%20%20%20%20%20%20%20%20%20width%3A%20100.0%25%3B%0A%20%20%20%20%20%20%20%20%20%20%20%20%20%20%20%20%20%20%20%20height%3A%20100.0%25%3B%0A%20%20%20%20%20%20%20%20%20%20%20%20%20%20%20%20%20%20%20%20left%3A%200.0%25%3B%0A%20%20%20%20%20%20%20%20%20%20%20%20%20%20%20%20%20%20%20%20top%3A%200.0%25%3B%0A%20%20%20%20%20%20%20%20%20%20%20%20%20%20%20%20%7D%0A%20%20%20%20%20%20%20%20%20%20%20%20%3C/style%3E%0A%20%20%20%20%20%20%20%20%0A%3C/head%3E%0A%3Cbody%3E%20%20%20%20%0A%20%20%20%20%0A%20%20%20%20%20%20%20%20%20%20%20%20%3Cdiv%20class%3D%22folium-map%22%20id%3D%22map_ee4a4da7d1244762a4850f53d0e960ac%22%20%3E%3C/div%3E%0A%20%20%20%20%20%20%20%20%0A%3C/body%3E%0A%3Cscript%3E%20%20%20%20%0A%20%20%20%20%0A%20%20%20%20%20%20%20%20%20%20%20%20var%20map_ee4a4da7d1244762a4850f53d0e960ac%20%3D%20L.map%28%0A%20%20%20%20%20%20%20%20%20%20%20%20%20%20%20%20%22map_ee4a4da7d1244762a4850f53d0e960ac%22%2C%0A%20%20%20%20%20%20%20%20%20%20%20%20%20%20%20%20%7B%0A%20%20%20%20%20%20%20%20%20%20%20%20%20%20%20%20%20%20%20%20center%3A%20%5B50.5955595%2C%2036.5873394%5D%2C%0A%20%20%20%20%20%20%20%20%20%20%20%20%20%20%20%20%20%20%20%20crs%3A%20L.CRS.EPSG3857%2C%0A%20%20%20%20%20%20%20%20%20%20%20%20%20%20%20%20%20%20%20%20zoom%3A%2013%2C%0A%20%20%20%20%20%20%20%20%20%20%20%20%20%20%20%20%20%20%20%20zoomControl%3A%20true%2C%0A%20%20%20%20%20%20%20%20%20%20%20%20%20%20%20%20%20%20%20%20preferCanvas%3A%20false%2C%0A%20%20%20%20%20%20%20%20%20%20%20%20%20%20%20%20%7D%0A%20%20%20%20%20%20%20%20%20%20%20%20%29%3B%0A%0A%20%20%20%20%20%20%20%20%20%20%20%20%0A%0A%20%20%20%20%20%20%20%20%0A%20%20%20%20%0A%20%20%20%20%20%20%20%20%20%20%20%20var%20tile_layer_65aabce13d2841058cda116bfd0c074f%20%3D%20L.tileLayer%28%0A%20%20%20%20%20%20%20%20%20%20%20%20%20%20%20%20%22https%3A//%7Bs%7D.tile.openstreetmap.org/%7Bz%7D/%7Bx%7D/%7By%7D.png%22%2C%0A%20%20%20%20%20%20%20%20%20%20%20%20%20%20%20%20%7B%22attribution%22%3A%20%22Data%20by%20%5Cu0026copy%3B%20%5Cu003ca%20href%3D%5C%22http%3A//openstreetmap.org%5C%22%5Cu003eOpenStreetMap%5Cu003c/a%5Cu003e%2C%20under%20%5Cu003ca%20href%3D%5C%22http%3A//www.openstreetmap.org/copyright%5C%22%5Cu003eODbL%5Cu003c/a%5Cu003e.%22%2C%20%22detectRetina%22%3A%20false%2C%20%22maxNativeZoom%22%3A%2018%2C%20%22maxZoom%22%3A%2018%2C%20%22minZoom%22%3A%200%2C%20%22noWrap%22%3A%20false%2C%20%22opacity%22%3A%201%2C%20%22subdomains%22%3A%20%22abc%22%2C%20%22tms%22%3A%20false%7D%0A%20%20%20%20%20%20%20%20%20%20%20%20%29.addTo%28map_ee4a4da7d1244762a4850f53d0e960ac%29%3B%0A%20%20%20%20%20%20%20%20%0A%20%20%20%20%0A%20%20%20%20%20%20%20%20%20%20%20%20var%20circle_marker_bed66b6507e749859646d3bcbe051332%20%3D%20L.circleMarker%28%0A%20%20%20%20%20%20%20%20%20%20%20%20%20%20%20%20%5B50.5955595%2C%2036.5873394%5D%2C%0A%20%20%20%20%20%20%20%20%20%20%20%20%20%20%20%20%7B%22bubblingMouseEvents%22%3A%20true%2C%20%22color%22%3A%20%22red%22%2C%20%22dashArray%22%3A%20null%2C%20%22dashOffset%22%3A%20null%2C%20%22fill%22%3A%20true%2C%20%22fillColor%22%3A%20%22red%22%2C%20%22fillOpacity%22%3A%200.6%2C%20%22fillRule%22%3A%20%22evenodd%22%2C%20%22lineCap%22%3A%20%22round%22%2C%20%22lineJoin%22%3A%20%22round%22%2C%20%22opacity%22%3A%201.0%2C%20%22radius%22%3A%2010%2C%20%22stroke%22%3A%20true%2C%20%22weight%22%3A%203%7D%0A%20%20%20%20%20%20%20%20%20%20%20%20%29.addTo%28map_ee4a4da7d1244762a4850f53d0e960ac%29%3B%0A%20%20%20%20%20%20%20%20%0A%20%20%20%20%0A%20%20%20%20%20%20%20%20var%20popup_bdfaed1dd8494869b2ab8567087a44e2%20%3D%20L.popup%28%7B%22maxWidth%22%3A%20%22100%25%22%7D%29%3B%0A%0A%20%20%20%20%20%20%20%20%0A%20%20%20%20%20%20%20%20%20%20%20%20var%20html_52198e72411d4457a349c1c8401e7fe1%20%3D%20%24%28%60%3Cdiv%20id%3D%22html_52198e72411d4457a349c1c8401e7fe1%22%20style%3D%22width%3A%20100.0%25%3B%20height%3A%20100.0%25%3B%22%3EBelgorod%3C/div%3E%60%29%5B0%5D%3B%0A%20%20%20%20%20%20%20%20%20%20%20%20popup_bdfaed1dd8494869b2ab8567087a44e2.setContent%28html_52198e72411d4457a349c1c8401e7fe1%29%3B%0A%20%20%20%20%20%20%20%20%0A%0A%20%20%20%20%20%20%20%20circle_marker_bed66b6507e749859646d3bcbe051332.bindPopup%28popup_bdfaed1dd8494869b2ab8567087a44e2%29%0A%20%20%20%20%20%20%20%20%3B%0A%0A%20%20%20%20%20%20%20%20%0A%20%20%20%20%0A%20%20%20%20%0A%20%20%20%20%20%20%20%20%20%20%20%20var%20circle_marker_baf8bbbd67f2489e803697156ebc38fc%20%3D%20L.circleMarker%28%0A%20%20%20%20%20%20%20%20%20%20%20%20%20%20%20%20%5B50.641786342800174%2C%2036.57200574874878%5D%2C%0A%20%20%20%20%20%20%20%20%20%20%20%20%20%20%20%20%7B%22bubblingMouseEvents%22%3A%20true%2C%20%22color%22%3A%20%22blue%22%2C%20%22dashArray%22%3A%20null%2C%20%22dashOffset%22%3A%20null%2C%20%22fill%22%3A%20true%2C%20%22fillColor%22%3A%20%22blue%22%2C%20%22fillOpacity%22%3A%200.6%2C%20%22fillRule%22%3A%20%22evenodd%22%2C%20%22lineCap%22%3A%20%22round%22%2C%20%22lineJoin%22%3A%20%22round%22%2C%20%22opacity%22%3A%201.0%2C%20%22radius%22%3A%205%2C%20%22stroke%22%3A%20true%2C%20%22weight%22%3A%203%7D%0A%20%20%20%20%20%20%20%20%20%20%20%20%29.addTo%28map_ee4a4da7d1244762a4850f53d0e960ac%29%3B%0A%20%20%20%20%20%20%20%20%0A%20%20%20%20%0A%20%20%20%20%20%20%20%20var%20popup_8290fcdaf438472caca9b075e6e35cb3%20%3D%20L.popup%28%7B%22maxWidth%22%3A%20%22100%25%22%7D%29%3B%0A%0A%20%20%20%20%20%20%20%20%0A%20%20%20%20%20%20%20%20%20%20%20%20var%20html_94f2d83623c04bbb955f931968e36d25%20%3D%20%24%28%60%3Cdiv%20id%3D%22html_94f2d83623c04bbb955f931968e36d25%22%20style%3D%22width%3A%20100.0%25%3B%20height%3A%20100.0%25%3B%22%3EIndie%20Movie%20Theater%3C/div%3E%60%29%5B0%5D%3B%0A%20%20%20%20%20%20%20%20%20%20%20%20popup_8290fcdaf438472caca9b075e6e35cb3.setContent%28html_94f2d83623c04bbb955f931968e36d25%29%3B%0A%20%20%20%20%20%20%20%20%0A%0A%20%20%20%20%20%20%20%20circle_marker_baf8bbbd67f2489e803697156ebc38fc.bindPopup%28popup_8290fcdaf438472caca9b075e6e35cb3%29%0A%20%20%20%20%20%20%20%20%3B%0A%0A%20%20%20%20%20%20%20%20%0A%20%20%20%20%0A%20%20%20%20%0A%20%20%20%20%20%20%20%20%20%20%20%20var%20circle_marker_0bb0966e1a82427faafb87933b5ccea1%20%3D%20L.circleMarker%28%0A%20%20%20%20%20%20%20%20%20%20%20%20%20%20%20%20%5B50.57297%2C%2036.538273%5D%2C%0A%20%20%20%20%20%20%20%20%20%20%20%20%20%20%20%20%7B%22bubblingMouseEvents%22%3A%20true%2C%20%22color%22%3A%20%22blue%22%2C%20%22dashArray%22%3A%20null%2C%20%22dashOffset%22%3A%20null%2C%20%22fill%22%3A%20true%2C%20%22fillColor%22%3A%20%22blue%22%2C%20%22fillOpacity%22%3A%200.6%2C%20%22fillRule%22%3A%20%22evenodd%22%2C%20%22lineCap%22%3A%20%22round%22%2C%20%22lineJoin%22%3A%20%22round%22%2C%20%22opacity%22%3A%201.0%2C%20%22radius%22%3A%205%2C%20%22stroke%22%3A%20true%2C%20%22weight%22%3A%203%7D%0A%20%20%20%20%20%20%20%20%20%20%20%20%29.addTo%28map_ee4a4da7d1244762a4850f53d0e960ac%29%3B%0A%20%20%20%20%20%20%20%20%0A%20%20%20%20%0A%20%20%20%20%20%20%20%20var%20popup_f164a6cd38154f719896df46282d8ac7%20%3D%20L.popup%28%7B%22maxWidth%22%3A%20%22100%25%22%7D%29%3B%0A%0A%20%20%20%20%20%20%20%20%0A%20%20%20%20%20%20%20%20%20%20%20%20var%20html_5af806b40a8c4de58a811d525779e925%20%3D%20%24%28%60%3Cdiv%20id%3D%22html_5af806b40a8c4de58a811d525779e925%22%20style%3D%22width%3A%20100.0%25%3B%20height%3A%20100.0%25%3B%22%3EMovie%20Theater%3C/div%3E%60%29%5B0%5D%3B%0A%20%20%20%20%20%20%20%20%20%20%20%20popup_f164a6cd38154f719896df46282d8ac7.setContent%28html_5af806b40a8c4de58a811d525779e925%29%3B%0A%20%20%20%20%20%20%20%20%0A%0A%20%20%20%20%20%20%20%20circle_marker_0bb0966e1a82427faafb87933b5ccea1.bindPopup%28popup_f164a6cd38154f719896df46282d8ac7%29%0A%20%20%20%20%20%20%20%20%3B%0A%0A%20%20%20%20%20%20%20%20%0A%20%20%20%20%0A%20%20%20%20%0A%20%20%20%20%20%20%20%20%20%20%20%20var%20circle_marker_9eacd43d81a54588ba62acf6d5cd8a1e%20%3D%20L.circleMarker%28%0A%20%20%20%20%20%20%20%20%20%20%20%20%20%20%20%20%5B50.59890173997732%2C%2036.58583505491499%5D%2C%0A%20%20%20%20%20%20%20%20%20%20%20%20%20%20%20%20%7B%22bubblingMouseEvents%22%3A%20true%2C%20%22color%22%3A%20%22blue%22%2C%20%22dashArray%22%3A%20null%2C%20%22dashOffset%22%3A%20null%2C%20%22fill%22%3A%20true%2C%20%22fillColor%22%3A%20%22blue%22%2C%20%22fillOpacity%22%3A%200.6%2C%20%22fillRule%22%3A%20%22evenodd%22%2C%20%22lineCap%22%3A%20%22round%22%2C%20%22lineJoin%22%3A%20%22round%22%2C%20%22opacity%22%3A%201.0%2C%20%22radius%22%3A%205%2C%20%22stroke%22%3A%20true%2C%20%22weight%22%3A%203%7D%0A%20%20%20%20%20%20%20%20%20%20%20%20%29.addTo%28map_ee4a4da7d1244762a4850f53d0e960ac%29%3B%0A%20%20%20%20%20%20%20%20%0A%20%20%20%20%0A%20%20%20%20%20%20%20%20var%20popup_6276257a3fab47a79e67ab0f0c24e401%20%3D%20L.popup%28%7B%22maxWidth%22%3A%20%22100%25%22%7D%29%3B%0A%0A%20%20%20%20%20%20%20%20%0A%20%20%20%20%20%20%20%20%20%20%20%20var%20html_efd3bece244d4c94b6ee7b48fceb8dac%20%3D%20%24%28%60%3Cdiv%20id%3D%22html_efd3bece244d4c94b6ee7b48fceb8dac%22%20style%3D%22width%3A%20100.0%25%3B%20height%3A%20100.0%25%3B%22%3EMovie%20Theater%3C/div%3E%60%29%5B0%5D%3B%0A%20%20%20%20%20%20%20%20%20%20%20%20popup_6276257a3fab47a79e67ab0f0c24e401.setContent%28html_efd3bece244d4c94b6ee7b48fceb8dac%29%3B%0A%20%20%20%20%20%20%20%20%0A%0A%20%20%20%20%20%20%20%20circle_marker_9eacd43d81a54588ba62acf6d5cd8a1e.bindPopup%28popup_6276257a3fab47a79e67ab0f0c24e401%29%0A%20%20%20%20%20%20%20%20%3B%0A%0A%20%20%20%20%20%20%20%20%0A%20%20%20%20%0A%20%20%20%20%0A%20%20%20%20%20%20%20%20%20%20%20%20var%20circle_marker_61ecad342b114f25b75a0235f08fcedc%20%3D%20L.circleMarker%28%0A%20%20%20%20%20%20%20%20%20%20%20%20%20%20%20%20%5B50.552289504570496%2C%2036.57118511826287%5D%2C%0A%20%20%20%20%20%20%20%20%20%20%20%20%20%20%20%20%7B%22bubblingMouseEvents%22%3A%20true%2C%20%22color%22%3A%20%22blue%22%2C%20%22dashArray%22%3A%20null%2C%20%22dashOffset%22%3A%20null%2C%20%22fill%22%3A%20true%2C%20%22fillColor%22%3A%20%22blue%22%2C%20%22fillOpacity%22%3A%200.6%2C%20%22fillRule%22%3A%20%22evenodd%22%2C%20%22lineCap%22%3A%20%22round%22%2C%20%22lineJoin%22%3A%20%22round%22%2C%20%22opacity%22%3A%201.0%2C%20%22radius%22%3A%205%2C%20%22stroke%22%3A%20true%2C%20%22weight%22%3A%203%7D%0A%20%20%20%20%20%20%20%20%20%20%20%20%29.addTo%28map_ee4a4da7d1244762a4850f53d0e960ac%29%3B%0A%20%20%20%20%20%20%20%20%0A%20%20%20%20%0A%20%20%20%20%20%20%20%20var%20popup_ee0a0bf8e2a74db691c8093a5775fbe9%20%3D%20L.popup%28%7B%22maxWidth%22%3A%20%22100%25%22%7D%29%3B%0A%0A%20%20%20%20%20%20%20%20%0A%20%20%20%20%20%20%20%20%20%20%20%20var%20html_28ab806be39e4e0c935730645497264b%20%3D%20%24%28%60%3Cdiv%20id%3D%22html_28ab806be39e4e0c935730645497264b%22%20style%3D%22width%3A%20100.0%25%3B%20height%3A%20100.0%25%3B%22%3EShopping%20Mall%3C/div%3E%60%29%5B0%5D%3B%0A%20%20%20%20%20%20%20%20%20%20%20%20popup_ee0a0bf8e2a74db691c8093a5775fbe9.setContent%28html_28ab806be39e4e0c935730645497264b%29%3B%0A%20%20%20%20%20%20%20%20%0A%0A%20%20%20%20%20%20%20%20circle_marker_61ecad342b114f25b75a0235f08fcedc.bindPopup%28popup_ee0a0bf8e2a74db691c8093a5775fbe9%29%0A%20%20%20%20%20%20%20%20%3B%0A%0A%20%20%20%20%20%20%20%20%0A%20%20%20%20%0A%3C/script%3E onload=\"this.contentDocument.open();this.contentDocument.write(    decodeURIComponent(this.getAttribute('data-html')));this.contentDocument.close();\" allowfullscreen webkitallowfullscreen mozallowfullscreen></iframe></div></div>"
      ],
      "text/plain": [
       "<folium.folium.Map at 0x224f1395730>"
      ]
     },
     "execution_count": 33,
     "metadata": {},
     "output_type": "execute_result"
    }
   ],
   "source": [
    "venues_map_B = folium.Map(location=[latitude_B, longitude_B], zoom_start=13) # generate map centred around of cities center\n",
    "\n",
    "# add a red circle marker to represent the center of city\n",
    "folium.CircleMarker(\n",
    "    [latitude, longitude],\n",
    "    radius=10,\n",
    "    color='red',\n",
    "    popup='Belgorod',\n",
    "    fill = True,\n",
    "    fill_color = 'red',\n",
    "    fill_opacity = 0.6\n",
    ").add_to(venues_map_B)\n",
    "\n",
    "# add the movies theter's as blue circle markers\n",
    "for lat, lng, label in zip(dataframe_filtered_B.lat, dataframe_filtered_B.lng, dataframe_filtered_B.categories):\n",
    "    folium.CircleMarker(\n",
    "        [lat, lng],\n",
    "        radius=5,\n",
    "        color='blue',\n",
    "        popup=label,\n",
    "        fill = True,\n",
    "        fill_color='blue',\n",
    "        fill_opacity=0.6\n",
    "    ).add_to(venues_map_B)\n",
    "\n",
    "venues_map_SO = folium.Map(location=[latitude_SO, longitude_SO], zoom_start=13) # generate map centred around of cities center\n",
    "\n",
    "folium.CircleMarker(\n",
    "    [latitude_SO, longitude_SO],\n",
    "    radius=10,\n",
    "    color='red',\n",
    "    popup='Stary Oskol',\n",
    "    fill = True,\n",
    "    fill_color = 'red',\n",
    "    fill_opacity = 0.6\n",
    ").add_to(venues_map_SO)\n",
    "\n",
    "# add the movies theter's as blue circle markers\n",
    "for lat, lng, label in zip(dataframe_filtered_SO.lat, dataframe_filtered_SO.lng, dataframe_filtered_SO.categories):\n",
    "    folium.CircleMarker(\n",
    "        [lat, lng],\n",
    "        radius=5,\n",
    "        color='blue',\n",
    "        popup=label,\n",
    "        fill = True,\n",
    "        fill_color='blue',\n",
    "        fill_opacity=0.6\n",
    "    ).add_to(venues_map_SO)\n",
    "# display map\n",
    "venues_map_B"
   ]
  },
  {
   "cell_type": "code",
   "execution_count": 34,
   "metadata": {},
   "outputs": [
    {
     "data": {
      "text/html": [
       "<div style=\"width:100%;\"><div style=\"position:relative;width:100%;height:0;padding-bottom:60%;\"><span style=\"color:#565656\">Make this Notebook Trusted to load map: File -> Trust Notebook</span><iframe src=\"about:blank\" style=\"position:absolute;width:100%;height:100%;left:0;top:0;border:none !important;\" data-html=%3C%21DOCTYPE%20html%3E%0A%3Chead%3E%20%20%20%20%0A%20%20%20%20%3Cmeta%20http-equiv%3D%22content-type%22%20content%3D%22text/html%3B%20charset%3DUTF-8%22%20/%3E%0A%20%20%20%20%0A%20%20%20%20%20%20%20%20%3Cscript%3E%0A%20%20%20%20%20%20%20%20%20%20%20%20L_NO_TOUCH%20%3D%20false%3B%0A%20%20%20%20%20%20%20%20%20%20%20%20L_DISABLE_3D%20%3D%20false%3B%0A%20%20%20%20%20%20%20%20%3C/script%3E%0A%20%20%20%20%0A%20%20%20%20%3Cstyle%3Ehtml%2C%20body%20%7Bwidth%3A%20100%25%3Bheight%3A%20100%25%3Bmargin%3A%200%3Bpadding%3A%200%3B%7D%3C/style%3E%0A%20%20%20%20%3Cstyle%3E%23map%20%7Bposition%3Aabsolute%3Btop%3A0%3Bbottom%3A0%3Bright%3A0%3Bleft%3A0%3B%7D%3C/style%3E%0A%20%20%20%20%3Cscript%20src%3D%22https%3A//cdn.jsdelivr.net/npm/leaflet%401.6.0/dist/leaflet.js%22%3E%3C/script%3E%0A%20%20%20%20%3Cscript%20src%3D%22https%3A//code.jquery.com/jquery-1.12.4.min.js%22%3E%3C/script%3E%0A%20%20%20%20%3Cscript%20src%3D%22https%3A//maxcdn.bootstrapcdn.com/bootstrap/3.2.0/js/bootstrap.min.js%22%3E%3C/script%3E%0A%20%20%20%20%3Cscript%20src%3D%22https%3A//cdnjs.cloudflare.com/ajax/libs/Leaflet.awesome-markers/2.0.2/leaflet.awesome-markers.js%22%3E%3C/script%3E%0A%20%20%20%20%3Clink%20rel%3D%22stylesheet%22%20href%3D%22https%3A//cdn.jsdelivr.net/npm/leaflet%401.6.0/dist/leaflet.css%22/%3E%0A%20%20%20%20%3Clink%20rel%3D%22stylesheet%22%20href%3D%22https%3A//maxcdn.bootstrapcdn.com/bootstrap/3.2.0/css/bootstrap.min.css%22/%3E%0A%20%20%20%20%3Clink%20rel%3D%22stylesheet%22%20href%3D%22https%3A//maxcdn.bootstrapcdn.com/bootstrap/3.2.0/css/bootstrap-theme.min.css%22/%3E%0A%20%20%20%20%3Clink%20rel%3D%22stylesheet%22%20href%3D%22https%3A//maxcdn.bootstrapcdn.com/font-awesome/4.6.3/css/font-awesome.min.css%22/%3E%0A%20%20%20%20%3Clink%20rel%3D%22stylesheet%22%20href%3D%22https%3A//cdnjs.cloudflare.com/ajax/libs/Leaflet.awesome-markers/2.0.2/leaflet.awesome-markers.css%22/%3E%0A%20%20%20%20%3Clink%20rel%3D%22stylesheet%22%20href%3D%22https%3A//cdn.jsdelivr.net/gh/python-visualization/folium/folium/templates/leaflet.awesome.rotate.min.css%22/%3E%0A%20%20%20%20%0A%20%20%20%20%20%20%20%20%20%20%20%20%3Cmeta%20name%3D%22viewport%22%20content%3D%22width%3Ddevice-width%2C%0A%20%20%20%20%20%20%20%20%20%20%20%20%20%20%20%20initial-scale%3D1.0%2C%20maximum-scale%3D1.0%2C%20user-scalable%3Dno%22%20/%3E%0A%20%20%20%20%20%20%20%20%20%20%20%20%3Cstyle%3E%0A%20%20%20%20%20%20%20%20%20%20%20%20%20%20%20%20%23map_89404d154f9847eb9e7c1a1d068f9b66%20%7B%0A%20%20%20%20%20%20%20%20%20%20%20%20%20%20%20%20%20%20%20%20position%3A%20relative%3B%0A%20%20%20%20%20%20%20%20%20%20%20%20%20%20%20%20%20%20%20%20width%3A%20100.0%25%3B%0A%20%20%20%20%20%20%20%20%20%20%20%20%20%20%20%20%20%20%20%20height%3A%20100.0%25%3B%0A%20%20%20%20%20%20%20%20%20%20%20%20%20%20%20%20%20%20%20%20left%3A%200.0%25%3B%0A%20%20%20%20%20%20%20%20%20%20%20%20%20%20%20%20%20%20%20%20top%3A%200.0%25%3B%0A%20%20%20%20%20%20%20%20%20%20%20%20%20%20%20%20%7D%0A%20%20%20%20%20%20%20%20%20%20%20%20%3C/style%3E%0A%20%20%20%20%20%20%20%20%0A%3C/head%3E%0A%3Cbody%3E%20%20%20%20%0A%20%20%20%20%0A%20%20%20%20%20%20%20%20%20%20%20%20%3Cdiv%20class%3D%22folium-map%22%20id%3D%22map_89404d154f9847eb9e7c1a1d068f9b66%22%20%3E%3C/div%3E%0A%20%20%20%20%20%20%20%20%0A%3C/body%3E%0A%3Cscript%3E%20%20%20%20%0A%20%20%20%20%0A%20%20%20%20%20%20%20%20%20%20%20%20var%20map_89404d154f9847eb9e7c1a1d068f9b66%20%3D%20L.map%28%0A%20%20%20%20%20%20%20%20%20%20%20%20%20%20%20%20%22map_89404d154f9847eb9e7c1a1d068f9b66%22%2C%0A%20%20%20%20%20%20%20%20%20%20%20%20%20%20%20%20%7B%0A%20%20%20%20%20%20%20%20%20%20%20%20%20%20%20%20%20%20%20%20center%3A%20%5B51.298038%2C%2037.833202%5D%2C%0A%20%20%20%20%20%20%20%20%20%20%20%20%20%20%20%20%20%20%20%20crs%3A%20L.CRS.EPSG3857%2C%0A%20%20%20%20%20%20%20%20%20%20%20%20%20%20%20%20%20%20%20%20zoom%3A%2013%2C%0A%20%20%20%20%20%20%20%20%20%20%20%20%20%20%20%20%20%20%20%20zoomControl%3A%20true%2C%0A%20%20%20%20%20%20%20%20%20%20%20%20%20%20%20%20%20%20%20%20preferCanvas%3A%20false%2C%0A%20%20%20%20%20%20%20%20%20%20%20%20%20%20%20%20%7D%0A%20%20%20%20%20%20%20%20%20%20%20%20%29%3B%0A%0A%20%20%20%20%20%20%20%20%20%20%20%20%0A%0A%20%20%20%20%20%20%20%20%0A%20%20%20%20%0A%20%20%20%20%20%20%20%20%20%20%20%20var%20tile_layer_5cac792433524f51854647cb43e49a6a%20%3D%20L.tileLayer%28%0A%20%20%20%20%20%20%20%20%20%20%20%20%20%20%20%20%22https%3A//%7Bs%7D.tile.openstreetmap.org/%7Bz%7D/%7Bx%7D/%7By%7D.png%22%2C%0A%20%20%20%20%20%20%20%20%20%20%20%20%20%20%20%20%7B%22attribution%22%3A%20%22Data%20by%20%5Cu0026copy%3B%20%5Cu003ca%20href%3D%5C%22http%3A//openstreetmap.org%5C%22%5Cu003eOpenStreetMap%5Cu003c/a%5Cu003e%2C%20under%20%5Cu003ca%20href%3D%5C%22http%3A//www.openstreetmap.org/copyright%5C%22%5Cu003eODbL%5Cu003c/a%5Cu003e.%22%2C%20%22detectRetina%22%3A%20false%2C%20%22maxNativeZoom%22%3A%2018%2C%20%22maxZoom%22%3A%2018%2C%20%22minZoom%22%3A%200%2C%20%22noWrap%22%3A%20false%2C%20%22opacity%22%3A%201%2C%20%22subdomains%22%3A%20%22abc%22%2C%20%22tms%22%3A%20false%7D%0A%20%20%20%20%20%20%20%20%20%20%20%20%29.addTo%28map_89404d154f9847eb9e7c1a1d068f9b66%29%3B%0A%20%20%20%20%20%20%20%20%0A%20%20%20%20%0A%20%20%20%20%20%20%20%20%20%20%20%20var%20circle_marker_bda51f8ace75400786dcada808c2ac06%20%3D%20L.circleMarker%28%0A%20%20%20%20%20%20%20%20%20%20%20%20%20%20%20%20%5B51.298038%2C%2037.833202%5D%2C%0A%20%20%20%20%20%20%20%20%20%20%20%20%20%20%20%20%7B%22bubblingMouseEvents%22%3A%20true%2C%20%22color%22%3A%20%22red%22%2C%20%22dashArray%22%3A%20null%2C%20%22dashOffset%22%3A%20null%2C%20%22fill%22%3A%20true%2C%20%22fillColor%22%3A%20%22red%22%2C%20%22fillOpacity%22%3A%200.6%2C%20%22fillRule%22%3A%20%22evenodd%22%2C%20%22lineCap%22%3A%20%22round%22%2C%20%22lineJoin%22%3A%20%22round%22%2C%20%22opacity%22%3A%201.0%2C%20%22radius%22%3A%2010%2C%20%22stroke%22%3A%20true%2C%20%22weight%22%3A%203%7D%0A%20%20%20%20%20%20%20%20%20%20%20%20%29.addTo%28map_89404d154f9847eb9e7c1a1d068f9b66%29%3B%0A%20%20%20%20%20%20%20%20%0A%20%20%20%20%0A%20%20%20%20%20%20%20%20var%20popup_92776dcfc2524674a62f2325e021f669%20%3D%20L.popup%28%7B%22maxWidth%22%3A%20%22100%25%22%7D%29%3B%0A%0A%20%20%20%20%20%20%20%20%0A%20%20%20%20%20%20%20%20%20%20%20%20var%20html_e3529de3797b4b61818ca4f1ab494194%20%3D%20%24%28%60%3Cdiv%20id%3D%22html_e3529de3797b4b61818ca4f1ab494194%22%20style%3D%22width%3A%20100.0%25%3B%20height%3A%20100.0%25%3B%22%3EStary%20Oskol%3C/div%3E%60%29%5B0%5D%3B%0A%20%20%20%20%20%20%20%20%20%20%20%20popup_92776dcfc2524674a62f2325e021f669.setContent%28html_e3529de3797b4b61818ca4f1ab494194%29%3B%0A%20%20%20%20%20%20%20%20%0A%0A%20%20%20%20%20%20%20%20circle_marker_bda51f8ace75400786dcada808c2ac06.bindPopup%28popup_92776dcfc2524674a62f2325e021f669%29%0A%20%20%20%20%20%20%20%20%3B%0A%0A%20%20%20%20%20%20%20%20%0A%20%20%20%20%0A%20%20%20%20%0A%20%20%20%20%20%20%20%20%20%20%20%20var%20circle_marker_eb80bde11a3c4f678b26020ece8f2627%20%3D%20L.circleMarker%28%0A%20%20%20%20%20%20%20%20%20%20%20%20%20%20%20%20%5B51.30884952097854%2C%2037.890751017389924%5D%2C%0A%20%20%20%20%20%20%20%20%20%20%20%20%20%20%20%20%7B%22bubblingMouseEvents%22%3A%20true%2C%20%22color%22%3A%20%22blue%22%2C%20%22dashArray%22%3A%20null%2C%20%22dashOffset%22%3A%20null%2C%20%22fill%22%3A%20true%2C%20%22fillColor%22%3A%20%22blue%22%2C%20%22fillOpacity%22%3A%200.6%2C%20%22fillRule%22%3A%20%22evenodd%22%2C%20%22lineCap%22%3A%20%22round%22%2C%20%22lineJoin%22%3A%20%22round%22%2C%20%22opacity%22%3A%201.0%2C%20%22radius%22%3A%205%2C%20%22stroke%22%3A%20true%2C%20%22weight%22%3A%203%7D%0A%20%20%20%20%20%20%20%20%20%20%20%20%29.addTo%28map_89404d154f9847eb9e7c1a1d068f9b66%29%3B%0A%20%20%20%20%20%20%20%20%0A%20%20%20%20%0A%20%20%20%20%20%20%20%20var%20popup_2ebce59f6c114f94a3edefb966bc5e2e%20%3D%20L.popup%28%7B%22maxWidth%22%3A%20%22100%25%22%7D%29%3B%0A%0A%20%20%20%20%20%20%20%20%0A%20%20%20%20%20%20%20%20%20%20%20%20var%20html_9d579bb662534a8b8616aa1cad19e5c2%20%3D%20%24%28%60%3Cdiv%20id%3D%22html_9d579bb662534a8b8616aa1cad19e5c2%22%20style%3D%22width%3A%20100.0%25%3B%20height%3A%20100.0%25%3B%22%3EMovie%20Theater%3C/div%3E%60%29%5B0%5D%3B%0A%20%20%20%20%20%20%20%20%20%20%20%20popup_2ebce59f6c114f94a3edefb966bc5e2e.setContent%28html_9d579bb662534a8b8616aa1cad19e5c2%29%3B%0A%20%20%20%20%20%20%20%20%0A%0A%20%20%20%20%20%20%20%20circle_marker_eb80bde11a3c4f678b26020ece8f2627.bindPopup%28popup_2ebce59f6c114f94a3edefb966bc5e2e%29%0A%20%20%20%20%20%20%20%20%3B%0A%0A%20%20%20%20%20%20%20%20%0A%20%20%20%20%0A%3C/script%3E onload=\"this.contentDocument.open();this.contentDocument.write(    decodeURIComponent(this.getAttribute('data-html')));this.contentDocument.close();\" allowfullscreen webkitallowfullscreen mozallowfullscreen></iframe></div></div>"
      ],
      "text/plain": [
       "<folium.folium.Map at 0x224f1362cd0>"
      ]
     },
     "execution_count": 34,
     "metadata": {},
     "output_type": "execute_result"
    }
   ],
   "source": [
    "venues_map_SO"
   ]
  },
  {
   "cell_type": "markdown",
   "metadata": {},
   "source": [
    "## Methodology <a name=\"methodology\"></a>"
   ]
  },
  {
   "cell_type": "markdown",
   "metadata": {},
   "source": [
    "In this project, the selection was made for the selection of data on cinemas of the two largest cities in the Belgorod region.\n",
    "The selection of data was carried out within a radius of 10 km from the conditional city center. Based on the data obtained with the help of Foursquare, a visual display of the results was performed for further analysis."
   ]
  },
  {
   "cell_type": "markdown",
   "metadata": {},
   "source": [
    "## Analysis <a name=\"analysis\"></a>"
   ]
  },
  {
   "cell_type": "markdown",
   "metadata": {},
   "source": [
    "The data obtained clearly demonstrate the level of presence of the cinema industry in the cities of Belgorod and Stary Oskol. In Belgorod, there is one cinema per 100,000 people in Stary Oskol per 200,000. In Belgorod, the uneven distribution of cinemas within the city is clearly expressed."
   ]
  },
  {
   "cell_type": "markdown",
   "metadata": {},
   "source": [
    "## Results and Discussion <a name=\"results\"></a>"
   ]
  },
  {
   "cell_type": "markdown",
   "metadata": {},
   "source": [
    "Based on the analysis obtained, it can be concluded that the network of cinemas in Belgorod and Stary Oskol is underdeveloped and conveniently located. Taking into account the average statistical requirement of 1 cinema for 20,000 people in these cities, a significant expansion of the cinema network is necessary. For Belgorod, satisfaction in the needs of this type of entertainment is 25% for Stary Oskol 10%. Stary Oskol is more promising in comparison with Belgorod, since this industry is much less developed."
   ]
  },
  {
   "cell_type": "markdown",
   "metadata": {},
   "source": [
    "## Conclusion <a name=\"conclusion\"></a>"
   ]
  },
  {
   "cell_type": "markdown",
   "metadata": {},
   "source": [
    "The purpose of this project was to determine the stage of development of the cinema network in order to help stakeholders get a visual idea of the prospects for opening new cinemas. After calculating the distribution of cinemas based on Foursquare data, we first identified the locations of cinemas that warrant further analysis (Belgorod and Stary Oskol) and then generated a collection of locations.\n",
    "\n",
    "The final decision on the optimal location of the new cinema will be made by stakeholders based on the specific characteristics of the areas and locations in each recommended area, taking into account additional factors such as the attractiveness of each location (proximity to a park or water), noise level / proximity to main roads. , property availability, prices, social and economic dynamics of each area, etc."
   ]
  },
  {
   "cell_type": "code",
   "execution_count": null,
   "metadata": {},
   "outputs": [],
   "source": []
  }
 ],
 "metadata": {
  "kernelspec": {
   "display_name": "Python 3",
   "language": "python",
   "name": "python3"
  },
  "language_info": {
   "codemirror_mode": {
    "name": "ipython",
    "version": 3
   },
   "file_extension": ".py",
   "mimetype": "text/x-python",
   "name": "python",
   "nbconvert_exporter": "python",
   "pygments_lexer": "ipython3",
   "version": "3.8.5"
  }
 },
 "nbformat": 4,
 "nbformat_minor": 1
}
